{
 "cells": [
  {
   "cell_type": "code",
   "execution_count": 1,
   "metadata": {},
   "outputs": [],
   "source": [
    "from __future__ import print_function\n",
    "import os, sys\n",
    "import open3d as o3d\n",
    "import numpy as np\n",
    "from numpy import linalg as LA\n",
    "from config import CURRENT_DIR\n",
    "from util import *"
   ]
  },
  {
   "cell_type": "code",
   "execution_count": 2,
   "metadata": {},
   "outputs": [],
   "source": [
    "DATA_DIR = os.path.abspath(os.path.join(CURRENT_DIR,\"../data/bunny.pcd\"))"
   ]
  },
  {
   "cell_type": "code",
   "execution_count": 3,
   "metadata": {},
   "outputs": [],
   "source": [
    "bunny_pcl = o3d.read_point_cloud(DATA_DIR)"
   ]
  },
  {
   "cell_type": "code",
   "execution_count": 4,
   "metadata": {},
   "outputs": [],
   "source": [
    "points = np.asarray(bunny_pcl.points)\n",
    "\n",
    "centroid = points.mean(0)\n",
    "\n",
    "A = np.zeros((3,points.shape[0]), dtype=np.float32)\n",
    "\n",
    "for i in range(points.shape[0]):\n",
    "    A[:,i] = points[i] - centroid"
   ]
  },
  {
   "cell_type": "code",
   "execution_count": 5,
   "metadata": {},
   "outputs": [],
   "source": [
    "U, S, Vt = LA.svd(A, full_matrices=True)"
   ]
  },
  {
   "cell_type": "code",
   "execution_count": 6,
   "metadata": {},
   "outputs": [],
   "source": [
    "vertices = estimate_3d_bounding_box_vertices(points)"
   ]
  },
  {
   "cell_type": "code",
   "execution_count": 18,
   "metadata": {},
   "outputs": [],
   "source": [
    "r_axis = U[:,0]\n",
    "g_axis = U[:,1]\n",
    "b_axis = U[:,2]\n",
    "\n",
    "offset = np.abs(np.max(centroid)) * 2\n",
    "\n",
    "r_lineset = o3d.geometry.LineSet()\n",
    "g_lineset = o3d.geometry.LineSet()\n",
    "b_lineset = o3d.geometry.LineSet()\n",
    "\n",
    "r_lineset.points = o3d.utility.Vector3dVector([centroid, centroid + offset * r_axis])\n",
    "r_lineset.lines = o3d.utility.Vector2iVector([[0,1]])\n",
    "r_lineset.colors = o3d.utility.Vector3dVector([[1,0,0]])\n",
    "\n",
    "g_lineset.points = o3d.utility.Vector3dVector([centroid, centroid + offset * g_axis])\n",
    "g_lineset.lines = o3d.utility.Vector2iVector([[0,1]])\n",
    "g_lineset.colors = o3d.utility.Vector3dVector([[0,1,0]])\n",
    "\n",
    "b_lineset.points = o3d.utility.Vector3dVector([centroid, centroid + offset * b_axis])\n",
    "b_lineset.lines = o3d.utility.Vector2iVector([[0,1]])\n",
    "b_lineset.colors = o3d.utility.Vector3dVector([[0,0,1]])"
   ]
  },
  {
   "cell_type": "code",
   "execution_count": 19,
   "metadata": {},
   "outputs": [],
   "source": [
    "o3d.draw_geometries([bunny_pcl, setup_lineset_3dbbox(vertices), r_lineset, g_lineset, b_lineset])"
   ]
  }
 ],
 "metadata": {
  "kernelspec": {
   "display_name": "Python 3",
   "language": "python",
   "name": "python3"
  },
  "language_info": {
   "codemirror_mode": {
    "name": "ipython",
    "version": 3
   },
   "file_extension": ".py",
   "mimetype": "text/x-python",
   "name": "python",
   "nbconvert_exporter": "python",
   "pygments_lexer": "ipython3",
   "version": "3.6.6"
  }
 },
 "nbformat": 4,
 "nbformat_minor": 2
}
