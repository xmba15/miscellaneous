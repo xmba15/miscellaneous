{
 "cells": [
  {
   "cell_type": "code",
   "execution_count": 12,
   "metadata": {},
   "outputs": [],
   "source": [
    "from __future__ import print_function\n",
    "import osqp\n",
    "import numpy as np\n",
    "import scipy as sp\n",
    "from scipy import sparse\n",
    "\n",
    "from config import CURRENT_DIR"
   ]
  },
  {
   "cell_type": "markdown",
   "metadata": {},
   "source": [
    "# least squares with quadratic programming solver osqp"
   ]
  },
  {
   "cell_type": "markdown",
   "metadata": {},
   "source": [
    "\n",
    "\n",
    "$$\n",
    "\\arg\\min_{x} \\frac{1}{2}|| A x - b ||^2_{2}\\\\\n",
    "s.t \\hspace{10mm} O \\leq x \\leq 1 \\\\\n",
    "$$"
   ]
  },
  {
   "cell_type": "markdown",
   "metadata": {},
   "source": [
    "$$\n",
    "\\arg\\min_{x} \\frac{1}{2}y^{T}y\\\\\n",
    "s.t \\hspace{10mm} y = Ax - b \\\\\n",
    "\\hspace{13mm} O \\leq x \\leq 1 \\\\\n",
    "$$"
   ]
  },
  {
   "cell_type": "markdown",
   "metadata": {},
   "source": [
    "# generating problem data"
   ]
  },
  {
   "cell_type": "code",
   "execution_count": 13,
   "metadata": {},
   "outputs": [],
   "source": [
    "sp.random.seed(1)\n",
    "m = 30\n",
    "n = 20\n",
    "Ad = sparse.random(m, n, density=0.7, format='csc')\n",
    "b = np.random.randn(m)"
   ]
  },
  {
   "cell_type": "code",
   "execution_count": 16,
   "metadata": {},
   "outputs": [],
   "source": [
    "# OSQP data\n",
    "P = sparse.block_diag([sparse.csc_matrix((n, n)), sparse.eye(m)], format='csc')\n",
    "q = np.zeros(n+m)\n",
    "A = sparse.vstack([\n",
    "        sparse.hstack([Ad, -sparse.eye(m)]),\n",
    "        sparse.hstack([sparse.eye(n), sparse.csc_matrix((n, m))])], format='csc')\n",
    "l = np.hstack([b, np.zeros(n)])\n",
    "u = np.hstack([b, np.ones(n)])"
   ]
  },
  {
   "cell_type": "code",
   "execution_count": 18,
   "metadata": {},
   "outputs": [
    {
     "name": "stdout",
     "output_type": "stream",
     "text": [
      "-----------------------------------------------------------------\n",
      "           OSQP v0.6.0  -  Operator Splitting QP Solver\n",
      "              (c) Bartolomeo Stellato,  Goran Banjac\n",
      "        University of Oxford  -  Stanford University 2019\n",
      "-----------------------------------------------------------------\n",
      "problem:  variables n = 50, constraints m = 50\n",
      "          nnz(P) + nnz(A) = 500\n",
      "settings: linear system solver = qdldl,\n",
      "          eps_abs = 1.0e-03, eps_rel = 1.0e-03,\n",
      "          eps_prim_inf = 1.0e-04, eps_dual_inf = 1.0e-04,\n",
      "          rho = 1.00e-01 (adaptive),\n",
      "          sigma = 1.00e-06, alpha = 1.60, max_iter = 4000\n",
      "          check_termination: on (interval 25),\n",
      "          scaling: on, scaled_termination: off\n",
      "          warm start: on, polish: off, time_limit: off\n",
      "\n",
      "iter   objective    pri res    dua res    rho        time\n",
      "   1   0.0000e+00   2.50e+00   4.47e+02   1.00e-01   3.74e-04s\n",
      "  75   1.6492e+01   1.58e-04   3.63e-05   1.47e+00   7.67e-04s\n",
      "\n",
      "status:               solved\n",
      "number of iterations: 75\n",
      "optimal objective:    16.4920\n",
      "run time:             8.50e-04s\n",
      "optimal rho estimate: 3.28e+00\n",
      "\n"
     ]
    }
   ],
   "source": [
    "prob = osqp.OSQP()\n",
    "prob.setup(P, q, A, l, u)\n",
    "res = prob.solve()"
   ]
  },
  {
   "cell_type": "code",
   "execution_count": 59,
   "metadata": {},
   "outputs": [
    {
     "data": {
      "text/plain": [
       "137.9964446807364"
      ]
     },
     "execution_count": 59,
     "metadata": {},
     "output_type": "execute_result"
    }
   ],
   "source": [
    "res.y.T.dot(res.y)"
   ]
  }
 ],
 "metadata": {
  "kernelspec": {
   "display_name": "Python 3",
   "language": "python",
   "name": "python3"
  },
  "language_info": {
   "codemirror_mode": {
    "name": "ipython",
    "version": 3
   },
   "file_extension": ".py",
   "mimetype": "text/x-python",
   "name": "python",
   "nbconvert_exporter": "python",
   "pygments_lexer": "ipython3",
   "version": "3.6.6"
  }
 },
 "nbformat": 4,
 "nbformat_minor": 2
}
