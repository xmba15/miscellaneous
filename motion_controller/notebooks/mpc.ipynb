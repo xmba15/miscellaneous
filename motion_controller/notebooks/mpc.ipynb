{
 "cells": [
  {
   "cell_type": "markdown",
   "metadata": {},
   "source": [
    "# quadratic programming"
   ]
  },
  {
   "cell_type": "markdown",
   "metadata": {},
   "source": [
    "$$\n",
    "\\begin{gather*}\n",
    "\\min_{x \\in R^n} {(\\frac{1}{2} x^T P x + q^T x)}\\\\\n",
    "\\text{subject to}\\\\\n",
    "Ax = b \\\\\n",
    "Gx \\leq h\n",
    "\\end{gather*}\n",
    "$$\n",
    "\n",
    "$$\n",
    "P = \\begin{bmatrix}\n",
    "    1 & 0 \\\\\n",
    "    0 & -1\n",
    "    \\end{bmatrix};\n",
    "q = \\begin{bmatrix}\n",
    "    3 \\\\\n",
    "    4\n",
    "    \\end{bmatrix};\n",
    "\\\\\n",
    "A = \\begin{bmatrix}\n",
    "    -1 & 0 \\\\\n",
    "    2 & 3\n",
    "    \\end{bmatrix};\n",
    "b = \\begin{bmatrix}\n",
    "    1 \\\\\n",
    "    1\n",
    "    \\end{bmatrix};\n",
    "\\\\\n",
    "G = \\begin{bmatrix} -2 & 0 \\end{bmatrix};\n",
    "h = 3\n",
    "$$"
   ]
  },
  {
   "cell_type": "code",
   "execution_count": 1,
   "metadata": {},
   "outputs": [],
   "source": [
    "import cvxopt\n",
    "from cvxopt import matrix\n",
    "import numpy as np"
   ]
  },
  {
   "cell_type": "code",
   "execution_count": 2,
   "metadata": {},
   "outputs": [],
   "source": [
    "P = matrix(np.diag([1.0, -1.0]))\n",
    "q = matrix(np.array([3.0, 4.0]))\n",
    "A = matrix(np.array([[-1.0, 0.0],[2.0,3.0]]).astype(np.float))\n",
    "b = matrix(np.array([1.0,1.0]))\n",
    "G = matrix(np.array([[-2.0, 0.0]]).astype(np.float))\n",
    "h = matrix(np.array([3.0]))"
   ]
  },
  {
   "cell_type": "code",
   "execution_count": 8,
   "metadata": {},
   "outputs": [
    {
     "name": "stdout",
     "output_type": "stream",
     "text": [
      "     pcost       dcost       gap    pres   dres\n",
      " 0:  1.0000e+00  0.0000e+00  1e+00  2e-16  8e-01\n",
      " 1:  1.0000e+00  9.9000e-01  1e-02  0e+00  8e-03\n",
      " 2:  1.0000e+00  9.9990e-01  1e-04  1e-16  8e-05\n",
      " 3:  1.0000e+00  1.0000e+00  1e-06  1e-16  8e-07\n",
      " 4:  1.0000e+00  1.0000e+00  1e-08  7e-17  8e-09\n",
      "Optimal solution found.\n",
      "[-1.00e+00]\n",
      "[ 1.00e+00]\n",
      "\n",
      "1.0\n"
     ]
    }
   ],
   "source": [
    "sol = cvxopt.solvers.qp(P,q, A=A, b=b,G=G, h=h)\n",
    "print(sol['x'])\n",
    "print(sol['primal objective'])"
   ]
  },
  {
   "cell_type": "markdown",
   "metadata": {},
   "source": [
    "$$\n",
    "\\begin{gather*}\n",
    "\\min_{x \\in R^n} {(\\frac{1}{2} x^T P x + q^T x)}\\\\\n",
    "\\text{subject to}\\\\\n",
    "Ax = b\n",
    "\\end{gather*}\n",
    "$$\n",
    "\n",
    "$$\n",
    "P = \\begin{bmatrix}\n",
    "    1 & 0 \\\\\n",
    "    0 & -1\n",
    "    \\end{bmatrix};\n",
    "q = \\begin{bmatrix}\n",
    "    3 \\\\\n",
    "    4\n",
    "    \\end{bmatrix};\n",
    "\\\\\n",
    "A = \\begin{bmatrix}\n",
    "    -1 & 0 \\\\\n",
    "    2 & 3\n",
    "    \\end{bmatrix};\n",
    "b = \\begin{bmatrix}\n",
    "    1 \\\\\n",
    "    1\n",
    "    \\end{bmatrix};\n",
    "$$"
   ]
  },
  {
   "cell_type": "code",
   "execution_count": 12,
   "metadata": {},
   "outputs": [
    {
     "name": "stdout",
     "output_type": "stream",
     "text": [
      "[-1.00e+00]\n",
      "[ 1.00e+00]\n",
      "\n",
      "1.0000000000000009\n"
     ]
    }
   ],
   "source": [
    "P = matrix(np.diag([1.0, -1.0]))\n",
    "q = matrix(np.array([3.0, 4.0]))\n",
    "A = matrix(np.array([[-1.0, 0.0],[2.0,3.0]]).astype(np.float))\n",
    "b = matrix(np.array([1.0,1.0]))\n",
    "\n",
    "sol = cvxopt.solvers.qp(P,q,A = A, b=b)\n",
    "print(sol['x'])\n",
    "print(sol['primal objective'])"
   ]
  }
 ],
 "metadata": {
  "kernelspec": {
   "display_name": "Python 3",
   "language": "python",
   "name": "python3"
  },
  "language_info": {
   "codemirror_mode": {
    "name": "ipython",
    "version": 3
   },
   "file_extension": ".py",
   "mimetype": "text/x-python",
   "name": "python",
   "nbconvert_exporter": "python",
   "pygments_lexer": "ipython3",
   "version": "3.6.6"
  }
 },
 "nbformat": 4,
 "nbformat_minor": 2
}
