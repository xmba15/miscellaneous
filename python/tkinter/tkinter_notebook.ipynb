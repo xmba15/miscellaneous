{
 "cells": [
  {
   "cell_type": "code",
   "execution_count": 1,
   "metadata": {},
   "outputs": [],
   "source": [
    "from __future__ import print_function\n",
    "\n",
    "import sys\n",
    "if sys.version_info < (3, 0):\n",
    "    import Tkinter as tk\n",
    "else:\n",
    "    import tkinter as tk"
   ]
  },
  {
   "cell_type": "code",
   "execution_count": 4,
   "metadata": {},
   "outputs": [],
   "source": [
    "mainwin = tk.Tk()\n",
    "mainwin.geometry(\"140x40\")\n",
    "lbl = tk.Label(mainwin, text=\"Hello World!\", bg=\"yellow\")\n",
    "lbl.pack(side=tk.LEFT)\n",
    "\n",
    "exit_button = tk.Button(mainwin, text=\"Exit\", command=mainwin.destroy)\n",
    "exit_button.pack(side=tk.RIGHT)\n",
    "\n",
    "mainwin.mainloop()"
   ]
  },
  {
   "cell_type": "code",
   "execution_count": 5,
   "metadata": {
    "scrolled": true
   },
   "outputs": [
    {
     "name": "stdout",
     "output_type": "stream",
     "text": [
      "Inside exit_btn_callback. Even object is: <Tkinter.Event instance at 0x7f89c9e8bbd8>\n"
     ]
    }
   ],
   "source": [
    "def exit_btn_callback(evt):\n",
    "    print(\"Inside exit_btn_callback. Even object is: {}\".format(evt))\n",
    "    mainwin.destroy()\n",
    "    \n",
    "mainwin = tk.Tk()\n",
    "mainwin.title(\"hello world\")\n",
    "mainwin.geometry(\"140x40\")\n",
    "lbl = tk.Label(mainwin, text=\"Hello World!\", bg=\"yellow\")\n",
    "lbl.pack(side=tk.LEFT)\n",
    "\n",
    "exit_button = tk.Button(mainwin, text=\"Exit\")\n",
    "exit_button.bind(\"<Button-1>\", exit_btn_callback)\n",
    "exit_button.pack(side=tk.RIGHT)\n",
    "\n",
    "mainwin.mainloop()\n"
   ]
  },
  {
   "cell_type": "markdown",
   "metadata": {},
   "source": [
    "# grid manager"
   ]
  },
  {
   "cell_type": "code",
   "execution_count": 3,
   "metadata": {},
   "outputs": [],
   "source": [
    "\"\"\"gridmanager\n",
    "\n",
    "This module illustrates how widgets can be placed using the grid layout.\n",
    "\n",
    "This module is compatible with Python 3.5.x and Python 2.7.9. It contains\n",
    "supporting code for the book, Learning Python Application Development,\n",
    "Packt Publishing.\n",
    "\n",
    ":copyright: 2016, Ninad Sathaye\n",
    "\n",
    ":license: The MIT License (MIT) . See LICENSE file for further details.\n",
    "\"\"\"\n",
    "from __future__ import print_function\n",
    "import sys\n",
    "\n",
    "if sys.version_info < (3, 0):\n",
    "    from Tkinter import Tk, Label, SUNKEN, RAISED, Frame\n",
    "else:\n",
    "    from tkinter import Tk, Label, SUNKEN, RAISED, Frame\n",
    "\n",
    "# Create mainwindow (root) , a Tk instance\n",
    "mainwin = Tk()\n",
    "# Create a Frame which will 'hold' various widgets in a grid layout\n",
    "content = Frame(mainwin)\n",
    "# Create the Label widgets with the container object (Frame) as the parent.\n",
    "l1 = Label(content, text=\"Cell [0,0]\", relief=RAISED, bg='red')\n",
    "l2 = Label(content, text=\"Cell [0,1]\", relief=SUNKEN)\n",
    "l3 = Label(content, text=\"Cell [0,2]\", relief=RAISED, bg='red')\n",
    "l4 = Label(content, text=\"Cell [1,1]\", relief=RAISED, bg='green')\n",
    "l5 = Label(content, text=\"Cell [1,3]\", relief=RAISED, bg='green')\n",
    "l6 = Label(content, text=\"Cell [2,4]\", relief=SUNKEN)\n",
    "l7 = Label(content, text=\"Cell [3,0] to [3-3] (spanning 4 cols)\",\n",
    "           relief=RAISED, bg='red')\n",
    "\n",
    "# Define the grid layout for these labels. The sticky option helps place\n",
    "# the widget along the edge of the cell (of the grid) to which it belongs.\n",
    "# For example, sticky=\"nsew\" will align the widget along top, bottom, right,\n",
    "# and left edges of the cell respectively.\n",
    "content.grid(column=0, row=0)\n",
    "l1.grid(row=0, column=0)\n",
    "l2.grid(row=0, column=1)\n",
    "l3.grid(row=0, column=2)\n",
    "l4.grid(row=1, column=1)\n",
    "l5.grid(row=1, column=3,  rowspan=2, sticky=\"nsew\")\n",
    "l6.grid(row=2, column=4)\n",
    "l7.grid(row=3, column=0, columnspan=4, sticky=\"nsew\")\n",
    "\n",
    "# Start the main event loop.\n",
    "mainwin.mainloop()"
   ]
  },
  {
   "cell_type": "code",
   "execution_count": null,
   "metadata": {},
   "outputs": [],
   "source": []
  }
 ],
 "metadata": {
  "kernelspec": {
   "display_name": "Python 2",
   "language": "python",
   "name": "python2"
  },
  "language_info": {
   "codemirror_mode": {
    "name": "ipython",
    "version": 2
   },
   "file_extension": ".py",
   "mimetype": "text/x-python",
   "name": "python",
   "nbconvert_exporter": "python",
   "pygments_lexer": "ipython2",
   "version": "2.7.16"
  }
 },
 "nbformat": 4,
 "nbformat_minor": 2
}
