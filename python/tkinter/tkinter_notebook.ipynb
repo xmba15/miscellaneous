{
 "cells": [
  {
   "cell_type": "code",
   "execution_count": 1,
   "metadata": {},
   "outputs": [],
   "source": [
    "from __future__ import print_function\n",
    "\n",
    "import sys\n",
    "if sys.version_info < (3, 0):\n",
    "    import Tkinter as tk\n",
    "else:\n",
    "    import tkinter as tk"
   ]
  },
  {
   "cell_type": "code",
   "execution_count": 2,
   "metadata": {},
   "outputs": [],
   "source": [
    "mainwin = tk.Tk()\n",
    "mainwin.geometry(\"140x40\")\n",
    "lbl = tk.Label(mainwin, text=\"Hello World!\", bg=\"yellow\")\n",
    "lbl.pack(side=tk.LEFT)\n",
    "\n",
    "exit_button = tk.Button(mainwin, text=\"Exit\", command=mainwin.destroy)\n",
    "exit_button.pack(side=tk.RIGHT)\n",
    "\n",
    "mainwin.mainloop()"
   ]
  },
  {
   "cell_type": "code",
   "execution_count": 3,
   "metadata": {},
   "outputs": [
    {
     "name": "stdout",
     "output_type": "stream",
     "text": [
      "Inside exit_btn_callback. Even object is: <Tkinter.Event instance at 0x7f349e308488>\n"
     ]
    }
   ],
   "source": [
    "def exit_btn_callback(evt):\n",
    "    print(\"Inside exit_btn_callback. Even object is: {}\".format(evt))\n",
    "    mainwin.destroy()\n",
    "    \n",
    "mainwin = tk.Tk()\n",
    "mainwin.geometry(\"140x40\")\n",
    "lbl = tk.Label(mainwin, text=\"Hello World!\", bg=\"yellow\")\n",
    "lbl.pack(side=tk.LEFT)\n",
    "\n",
    "exit_button = tk.Button(mainwin, text=\"Exit\")\n",
    "exit_button.bind(\"<Button-1>\", exit_btn_callback)\n",
    "exit_button.pack(side=tk.RIGHT)\n",
    "\n",
    "mainwin.mainloop()\n"
   ]
  }
 ],
 "metadata": {
  "kernelspec": {
   "display_name": "Python 2",
   "language": "python",
   "name": "python2"
  },
  "language_info": {
   "codemirror_mode": {
    "name": "ipython",
    "version": 2
   },
   "file_extension": ".py",
   "mimetype": "text/x-python",
   "name": "python",
   "nbconvert_exporter": "python",
   "pygments_lexer": "ipython2",
   "version": "2.7.16"
  }
 },
 "nbformat": 4,
 "nbformat_minor": 2
}
